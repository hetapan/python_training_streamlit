{
 "cells": [
  {
   "cell_type": "code",
   "execution_count": 24,
   "id": "f1cf6bba-3785-43a2-a503-6916539d5983",
   "metadata": {},
   "outputs": [],
   "source": [
    "import pandas as pd"
   ]
  },
  {
   "cell_type": "code",
   "execution_count": 67,
   "id": "ce95872a-4e69-4c05-83c3-924e7ee9eabe",
   "metadata": {},
   "outputs": [],
   "source": [
    "a_dic = {'apple':7, 'banana': 8, 'orange': 9 }\n",
    "b_dic = {'peach':10}\n",
    "s7 = pd.Series(a_dic)\n",
    "s8 = pd.Series(b_dic)\n",
    "s9 = pd.concat([s8, s7])"
   ]
  },
  {
   "cell_type": "code",
   "execution_count": 71,
   "id": "78179a39-824f-4e71-bccb-57f1b5023d7c",
   "metadata": {},
   "outputs": [
    {
     "name": "stdout",
     "output_type": "stream",
     "text": [
      "    c0  c1  c2\n",
      "r0   1   2   3\n",
      "r1   4   5   6\n"
     ]
    }
   ],
   "source": [
    "val = [[1,2,3],[4,5,6]]\n",
    "df = pd.DataFrame(val, index=['r0','r1'], columns=['c0', 'c1', 'c2'])\n",
    "print(df)"
   ]
  },
  {
   "cell_type": "code",
   "execution_count": 77,
   "id": "76805256-f46c-40c0-8172-506077473953",
   "metadata": {},
   "outputs": [
    {
     "name": "stdout",
     "output_type": "stream",
     "text": [
      "     age gender  height  weight\n",
      "0    NaN      m   175.0    30.0\n",
      "1    NaN      r   174.0    31.0\n",
      "2    NaN      r   173.0    32.0\n",
      "3    NaN      m   172.0    33.0\n",
      "11  21.0    NaN     NaN     NaN\n",
      "22  22.0    NaN     NaN     NaN\n",
      "33  23.0    NaN     NaN     NaN\n",
      "44  24.0    NaN     NaN     NaN\n"
     ]
    }
   ],
   "source": [
    "age = pd.Series([21,22,23,24])\n",
    "gender = pd.Series(['m','r','r','m'])\n",
    "height = pd.Series([175,174,173,172])\n",
    "weight = pd.Series([30,31,32,33])\n",
    "df_info = pd.DataFrame({\n",
    "    'age': age,\n",
    "    'gender': gender,\n",
    "    'height': height,\n",
    "    'weight': weight\n",
    "})\n",
    "print(df_info)"
   ]
  },
  {
   "cell_type": "code",
   "execution_count": null,
   "id": "11204d3e-496c-45a8-aaa8-93db864b7568",
   "metadata": {},
   "outputs": [],
   "source": []
  }
 ],
 "metadata": {
  "kernelspec": {
   "display_name": "Python 3 (ipykernel)",
   "language": "python",
   "name": "python3"
  },
  "language_info": {
   "codemirror_mode": {
    "name": "ipython",
    "version": 3
   },
   "file_extension": ".py",
   "mimetype": "text/x-python",
   "name": "python",
   "nbconvert_exporter": "python",
   "pygments_lexer": "ipython3",
   "version": "3.9.12"
  }
 },
 "nbformat": 4,
 "nbformat_minor": 5
}
