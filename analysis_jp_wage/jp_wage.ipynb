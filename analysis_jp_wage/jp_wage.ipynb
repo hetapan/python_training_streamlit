{
 "cells": [
  {
   "cell_type": "code",
   "execution_count": 1,
   "id": "08a4cc05-1a5b-4fd1-9fac-5a6e3a51fd41",
   "metadata": {},
   "outputs": [],
   "source": [
    "### データのimportと整形\n",
    "import numpy as np\n",
    "import pandas as pd\n",
    "import matplotlib.pyplot as plt\n",
    "from matplotlib.font_manager import FontProperties"
   ]
  },
  {
   "cell_type": "code",
   "execution_count": 2,
   "id": "4b235973-e3c2-48e1-8d9d-a473cd777549",
   "metadata": {},
   "outputs": [],
   "source": [
    "import warnings\n",
    "warnings.simplefilter('ignore')"
   ]
  },
  {
   "cell_type": "code",
   "execution_count": 3,
   "id": "e6e99b07-691c-477e-85c5-7e76abf5b7f6",
   "metadata": {},
   "outputs": [],
   "source": [
    "# ファイルの読み込み\n",
    "df_jp_ind = pd.read_csv('./csv_data/雇用_医療福祉_一人当たり賃金_全国_全産業.csv', encoding='shift_jis')\n",
    "df_jp_category = pd.read_csv('./csv_data/雇用_医療福祉_一人当たり賃金_全国_大分類.csv', encoding='shift_jis')\n",
    "df_pref_ind = pd.read_csv('./csv_data/雇用_医療福祉_一人当たり賃金_都道府県_全産業.csv', encoding='shift_jis')\n",
    "df_pref_category = pd.read_csv('./csv_data/雇用_医療福祉_一人当たり賃金_都道府県_大分類.csv', encoding='shift_jis')"
   ]
  },
  {
   "cell_type": "code",
   "execution_count": 4,
   "id": "5a427dd8-a271-448b-b325-c5db64aca860",
   "metadata": {},
   "outputs": [
    {
     "name": "stdout",
     "output_type": "stream",
     "text": [
      "===== データサイズ\n",
      " (130, 5)\n",
      "===== index\n",
      " RangeIndex(start=0, stop=130, step=1)\n",
      "===== カラム名\n",
      " Index(['集計年', '年齢', '所定内給与額（万円）', '年間賞与その他特別給与額（万円）', '一人当たり賃金（万円）'], dtype='object')\n",
      "===== データ型\n",
      " 集計年                   int64\n",
      "年齢                   object\n",
      "所定内給与額（万円）          float64\n",
      "年間賞与その他特別給与額（万円）    float64\n",
      "一人当たり賃金（万円）         float64\n",
      "dtype: object\n"
     ]
    },
    {
     "data": {
      "text/html": [
       "<div>\n",
       "<style scoped>\n",
       "    .dataframe tbody tr th:only-of-type {\n",
       "        vertical-align: middle;\n",
       "    }\n",
       "\n",
       "    .dataframe tbody tr th {\n",
       "        vertical-align: top;\n",
       "    }\n",
       "\n",
       "    .dataframe thead th {\n",
       "        text-align: right;\n",
       "    }\n",
       "</style>\n",
       "<table border=\"1\" class=\"dataframe\">\n",
       "  <thead>\n",
       "    <tr style=\"text-align: right;\">\n",
       "      <th></th>\n",
       "      <th>集計年</th>\n",
       "      <th>年齢</th>\n",
       "      <th>所定内給与額（万円）</th>\n",
       "      <th>年間賞与その他特別給与額（万円）</th>\n",
       "      <th>一人当たり賃金（万円）</th>\n",
       "    </tr>\n",
       "  </thead>\n",
       "  <tbody>\n",
       "    <tr>\n",
       "      <th>125</th>\n",
       "      <td>2019</td>\n",
       "      <td>50〜54歳</td>\n",
       "      <td>37.3461</td>\n",
       "      <td>131.3868</td>\n",
       "      <td>579.5403</td>\n",
       "    </tr>\n",
       "    <tr>\n",
       "      <th>126</th>\n",
       "      <td>2019</td>\n",
       "      <td>55〜59歳</td>\n",
       "      <td>36.7154</td>\n",
       "      <td>125.9454</td>\n",
       "      <td>566.5306</td>\n",
       "    </tr>\n",
       "    <tr>\n",
       "      <th>127</th>\n",
       "      <td>2019</td>\n",
       "      <td>60〜64歳</td>\n",
       "      <td>28.3014</td>\n",
       "      <td>68.4050</td>\n",
       "      <td>408.0213</td>\n",
       "    </tr>\n",
       "    <tr>\n",
       "      <th>128</th>\n",
       "      <td>2019</td>\n",
       "      <td>65〜69歳</td>\n",
       "      <td>24.9037</td>\n",
       "      <td>39.3509</td>\n",
       "      <td>338.1952</td>\n",
       "    </tr>\n",
       "    <tr>\n",
       "      <th>129</th>\n",
       "      <td>2019</td>\n",
       "      <td>70歳〜</td>\n",
       "      <td>23.7553</td>\n",
       "      <td>24.4497</td>\n",
       "      <td>309.5137</td>\n",
       "    </tr>\n",
       "  </tbody>\n",
       "</table>\n",
       "</div>"
      ],
      "text/plain": [
       "      集計年      年齢  所定内給与額（万円）  年間賞与その他特別給与額（万円）  一人当たり賃金（万円）\n",
       "125  2019  50〜54歳     37.3461          131.3868     579.5403\n",
       "126  2019  55〜59歳     36.7154          125.9454     566.5306\n",
       "127  2019  60〜64歳     28.3014           68.4050     408.0213\n",
       "128  2019  65〜69歳     24.9037           39.3509     338.1952\n",
       "129  2019    70歳〜     23.7553           24.4497     309.5137"
      ]
     },
     "execution_count": 4,
     "metadata": {},
     "output_type": "execute_result"
    }
   ],
   "source": [
    "# データ概要の確認\n",
    "print('===== データサイズ\\n', df_jp_ind.shape)\n",
    "print('===== index\\n', df_jp_ind.index)\n",
    "print('===== カラム名\\n', df_jp_ind.columns)\n",
    "print('===== データ型\\n', df_jp_ind.dtypes)\n",
    "df_jp_ind.tail()"
   ]
  },
  {
   "cell_type": "code",
   "execution_count": 5,
   "id": "f35d33dc-81bb-43c7-ba4f-34763efa58fa",
   "metadata": {},
   "outputs": [
    {
     "data": {
      "text/plain": [
       "array(['鉱業，採石業，砂利採取業', '建設業', '製造業', '電気・ガス・熱供給・水道業', '情報通信業', '運輸業，郵便業',\n",
       "       '卸売業，小売業', '金融業，保険業', '不動産業，物品賃貸業', '学術研究，専門・技術サービス業',\n",
       "       '宿泊業，飲食サービス業', '生活関連サービス業，娯楽業', '教育，学習支援業', '医療，福祉', '複合サービス事業',\n",
       "       'サービス業（他に分類されないもの）'], dtype=object)"
      ]
     },
     "execution_count": 5,
     "metadata": {},
     "output_type": "execute_result"
    }
   ],
   "source": [
    "# ユニーク値の確認\n",
    "df_pref_category['産業大分類名'].unique()"
   ]
  },
  {
   "cell_type": "code",
   "execution_count": 6,
   "id": "13f8373d-1d23-4fa7-9ac3-fa033f4d2624",
   "metadata": {},
   "outputs": [
    {
     "data": {
      "text/plain": [
       "16"
      ]
     },
     "execution_count": 6,
     "metadata": {},
     "output_type": "execute_result"
    }
   ],
   "source": [
    "df_pref_category['産業大分類名'].nunique()"
   ]
  },
  {
   "cell_type": "code",
   "execution_count": 7,
   "id": "e3b975f3-e530-4436-b3a5-5bf8c39f4dae",
   "metadata": {
    "tags": []
   },
   "outputs": [
    {
     "data": {
      "text/plain": [
       "False"
      ]
     },
     "execution_count": 7,
     "metadata": {},
     "output_type": "execute_result"
    }
   ],
   "source": [
    "# 重複データの確認\n",
    "df_jp_ind.duplicated().any()"
   ]
  },
  {
   "cell_type": "code",
   "execution_count": 8,
   "id": "f492f8d8-d667-4cd7-aa9c-b4a4e710c318",
   "metadata": {},
   "outputs": [
    {
     "data": {
      "text/plain": [
       "集計年                  int64\n",
       "都道府県コード              int64\n",
       "都道府県名               object\n",
       "産業大分類コード            object\n",
       "産業大分類名              object\n",
       "年齢                  object\n",
       "所定内給与額（万円）          object\n",
       "年間賞与その他特別給与額（万円）    object\n",
       "一人当たり賃金（万円）         object\n",
       "dtype: object"
      ]
     },
     "execution_count": 8,
     "metadata": {},
     "output_type": "execute_result"
    }
   ],
   "source": [
    "df_pref_category.dtypes"
   ]
  },
  {
   "cell_type": "code",
   "execution_count": 9,
   "id": "ba26416f-e4fd-453b-a84c-1117f71d5f5e",
   "metadata": {},
   "outputs": [
    {
     "data": {
      "text/plain": [
       "集計年                 0\n",
       "年齢                  0\n",
       "所定内給与額（万円）          0\n",
       "年間賞与その他特別給与額（万円）    0\n",
       "一人当たり賃金（万円）         0\n",
       "dtype: int64"
      ]
     },
     "execution_count": 9,
     "metadata": {},
     "output_type": "execute_result"
    }
   ],
   "source": [
    "# 欠損値の確認\n",
    "df_jp_ind.isnull().sum()"
   ]
  },
  {
   "cell_type": "code",
   "execution_count": 10,
   "id": "3b217531-2536-4ab4-b2ca-8343f9248c26",
   "metadata": {},
   "outputs": [],
   "source": [
    "# (金額項目のオブジェクト型をstr型に変換する必要があるため)特定文字列の抽出と置換\n",
    "df_pref_category[df_pref_category['所定内給与額（万円）'] == '-']\n",
    "\n",
    "df_pref_category['所定内給与額（万円）'] = df_pref_category['所定内給与額（万円）'].replace('-', np.nan)\n",
    "df_pref_category['一人当たり賃金（万円）'] = df_pref_category['一人当たり賃金（万円）'].replace('-', np.nan)\n",
    "df_pref_category['年間賞与その他特別給与額（万円）'] = df_pref_category['年間賞与その他特別給与額（万円）'].replace('-', np.nan)"
   ]
  },
  {
   "cell_type": "code",
   "execution_count": 11,
   "id": "7eda883a-81fe-4ca8-ab18-825639bc9776",
   "metadata": {},
   "outputs": [],
   "source": [
    "# 欠損値の処理\n",
    "# そのままにする/欠損行の削除/別の値で保管する\n",
    "# 今回は欠損行の割合が少ないため削除対応とする\n",
    "df_pref_category.dropna(subset=['所定内給与額（万円）'], axis=0, inplace=True)"
   ]
  },
  {
   "cell_type": "code",
   "execution_count": 12,
   "id": "5c35a3b3-07cd-4a55-bcd1-2675fe080a81",
   "metadata": {},
   "outputs": [
    {
     "data": {
      "text/plain": [
       "集計年                   int64\n",
       "都道府県コード               int64\n",
       "都道府県名                object\n",
       "産業大分類コード             object\n",
       "産業大分類名               object\n",
       "年齢                   object\n",
       "所定内給与額（万円）          float64\n",
       "年間賞与その他特別給与額（万円）    float64\n",
       "一人当たり賃金（万円）         float64\n",
       "dtype: object"
      ]
     },
     "execution_count": 12,
     "metadata": {},
     "output_type": "execute_result"
    }
   ],
   "source": [
    "# データ型の変換\n",
    "df_pref_category = df_pref_category.astype({'所定内給与額（万円）': float, '一人当たり賃金（万円）': float, '年間賞与その他特別給与額（万円）': float})\n",
    "df_pref_category.dtypes"
   ]
  },
  {
   "cell_type": "code",
   "execution_count": 13,
   "id": "1de7336c-4ebb-4caf-863d-ea6cf9efc259",
   "metadata": {},
   "outputs": [
    {
     "data": {
      "text/html": [
       "<div>\n",
       "<style scoped>\n",
       "    .dataframe tbody tr th:only-of-type {\n",
       "        vertical-align: middle;\n",
       "    }\n",
       "\n",
       "    .dataframe tbody tr th {\n",
       "        vertical-align: top;\n",
       "    }\n",
       "\n",
       "    .dataframe thead th {\n",
       "        text-align: right;\n",
       "    }\n",
       "</style>\n",
       "<table border=\"1\" class=\"dataframe\">\n",
       "  <thead>\n",
       "    <tr style=\"text-align: right;\">\n",
       "      <th></th>\n",
       "      <th>集計年</th>\n",
       "      <th>都道府県コード</th>\n",
       "      <th>都道府県名</th>\n",
       "      <th>産業大分類コード</th>\n",
       "      <th>産業大分類名</th>\n",
       "      <th>年齢</th>\n",
       "      <th>所定内給与額（万円）</th>\n",
       "      <th>年間賞与その他特別給与額（万円）</th>\n",
       "      <th>一人当たり賃金（万円）</th>\n",
       "    </tr>\n",
       "  </thead>\n",
       "  <tbody>\n",
       "    <tr>\n",
       "      <th>2503</th>\n",
       "      <td>2010</td>\n",
       "      <td>13</td>\n",
       "      <td>東京都</td>\n",
       "      <td>C</td>\n",
       "      <td>鉱業，採石業，砂利採取業</td>\n",
       "      <td>45〜49歳</td>\n",
       "      <td>58.88</td>\n",
       "      <td>341.39</td>\n",
       "      <td>1047.95</td>\n",
       "    </tr>\n",
       "    <tr>\n",
       "      <th>2504</th>\n",
       "      <td>2010</td>\n",
       "      <td>13</td>\n",
       "      <td>東京都</td>\n",
       "      <td>C</td>\n",
       "      <td>鉱業，採石業，砂利採取業</td>\n",
       "      <td>50〜54歳</td>\n",
       "      <td>66.59</td>\n",
       "      <td>415.81</td>\n",
       "      <td>1214.89</td>\n",
       "    </tr>\n",
       "    <tr>\n",
       "      <th>2505</th>\n",
       "      <td>2010</td>\n",
       "      <td>13</td>\n",
       "      <td>東京都</td>\n",
       "      <td>C</td>\n",
       "      <td>鉱業，採石業，砂利採取業</td>\n",
       "      <td>55〜59歳</td>\n",
       "      <td>68.96</td>\n",
       "      <td>432.67</td>\n",
       "      <td>1260.19</td>\n",
       "    </tr>\n",
       "    <tr>\n",
       "      <th>2556</th>\n",
       "      <td>2010</td>\n",
       "      <td>13</td>\n",
       "      <td>東京都</td>\n",
       "      <td>G</td>\n",
       "      <td>情報通信業</td>\n",
       "      <td>50〜54歳</td>\n",
       "      <td>64.22</td>\n",
       "      <td>207.55</td>\n",
       "      <td>978.19</td>\n",
       "    </tr>\n",
       "    <tr>\n",
       "      <th>2557</th>\n",
       "      <td>2010</td>\n",
       "      <td>13</td>\n",
       "      <td>東京都</td>\n",
       "      <td>G</td>\n",
       "      <td>情報通信業</td>\n",
       "      <td>55〜59歳</td>\n",
       "      <td>60.30</td>\n",
       "      <td>182.65</td>\n",
       "      <td>906.25</td>\n",
       "    </tr>\n",
       "    <tr>\n",
       "      <th>...</th>\n",
       "      <td>...</td>\n",
       "      <td>...</td>\n",
       "      <td>...</td>\n",
       "      <td>...</td>\n",
       "      <td>...</td>\n",
       "      <td>...</td>\n",
       "      <td>...</td>\n",
       "      <td>...</td>\n",
       "      <td>...</td>\n",
       "    </tr>\n",
       "    <tr>\n",
       "      <th>90606</th>\n",
       "      <td>2019</td>\n",
       "      <td>13</td>\n",
       "      <td>東京都</td>\n",
       "      <td>L</td>\n",
       "      <td>学術研究，専門・技術サービス業</td>\n",
       "      <td>55〜59歳</td>\n",
       "      <td>55.29</td>\n",
       "      <td>242.54</td>\n",
       "      <td>906.02</td>\n",
       "    </tr>\n",
       "    <tr>\n",
       "      <th>90644</th>\n",
       "      <td>2019</td>\n",
       "      <td>13</td>\n",
       "      <td>東京都</td>\n",
       "      <td>O</td>\n",
       "      <td>教育，学習支援業</td>\n",
       "      <td>50〜54歳</td>\n",
       "      <td>58.58</td>\n",
       "      <td>271.15</td>\n",
       "      <td>974.11</td>\n",
       "    </tr>\n",
       "    <tr>\n",
       "      <th>90645</th>\n",
       "      <td>2019</td>\n",
       "      <td>13</td>\n",
       "      <td>東京都</td>\n",
       "      <td>O</td>\n",
       "      <td>教育，学習支援業</td>\n",
       "      <td>55〜59歳</td>\n",
       "      <td>63.57</td>\n",
       "      <td>301.49</td>\n",
       "      <td>1064.33</td>\n",
       "    </tr>\n",
       "    <tr>\n",
       "      <th>90646</th>\n",
       "      <td>2019</td>\n",
       "      <td>13</td>\n",
       "      <td>東京都</td>\n",
       "      <td>O</td>\n",
       "      <td>教育，学習支援業</td>\n",
       "      <td>60〜64歳</td>\n",
       "      <td>62.22</td>\n",
       "      <td>306.26</td>\n",
       "      <td>1052.90</td>\n",
       "    </tr>\n",
       "    <tr>\n",
       "      <th>90647</th>\n",
       "      <td>2019</td>\n",
       "      <td>13</td>\n",
       "      <td>東京都</td>\n",
       "      <td>O</td>\n",
       "      <td>教育，学習支援業</td>\n",
       "      <td>65〜69歳</td>\n",
       "      <td>63.25</td>\n",
       "      <td>262.77</td>\n",
       "      <td>1021.77</td>\n",
       "    </tr>\n",
       "  </tbody>\n",
       "</table>\n",
       "<p>106 rows × 9 columns</p>\n",
       "</div>"
      ],
      "text/plain": [
       "        集計年  都道府県コード 都道府県名 産業大分類コード           産業大分類名      年齢  所定内給与額（万円）  \\\n",
       "2503   2010       13   東京都        C     鉱業，採石業，砂利採取業  45〜49歳       58.88   \n",
       "2504   2010       13   東京都        C     鉱業，採石業，砂利採取業  50〜54歳       66.59   \n",
       "2505   2010       13   東京都        C     鉱業，採石業，砂利採取業  55〜59歳       68.96   \n",
       "2556   2010       13   東京都        G            情報通信業  50〜54歳       64.22   \n",
       "2557   2010       13   東京都        G            情報通信業  55〜59歳       60.30   \n",
       "...     ...      ...   ...      ...              ...     ...         ...   \n",
       "90606  2019       13   東京都        L  学術研究，専門・技術サービス業  55〜59歳       55.29   \n",
       "90644  2019       13   東京都        O         教育，学習支援業  50〜54歳       58.58   \n",
       "90645  2019       13   東京都        O         教育，学習支援業  55〜59歳       63.57   \n",
       "90646  2019       13   東京都        O         教育，学習支援業  60〜64歳       62.22   \n",
       "90647  2019       13   東京都        O         教育，学習支援業  65〜69歳       63.25   \n",
       "\n",
       "       年間賞与その他特別給与額（万円）  一人当たり賃金（万円）  \n",
       "2503             341.39      1047.95  \n",
       "2504             415.81      1214.89  \n",
       "2505             432.67      1260.19  \n",
       "2556             207.55       978.19  \n",
       "2557             182.65       906.25  \n",
       "...                 ...          ...  \n",
       "90606            242.54       906.02  \n",
       "90644            271.15       974.11  \n",
       "90645            301.49      1064.33  \n",
       "90646            306.26      1052.90  \n",
       "90647            262.77      1021.77  \n",
       "\n",
       "[106 rows x 9 columns]"
      ]
     },
     "execution_count": 13,
     "metadata": {},
     "output_type": "execute_result"
    }
   ],
   "source": [
    "# 条件抽出(複数条件)\n",
    "df_pref_category[(df_pref_category['一人当たり賃金（万円）'] > 900) & (df_pref_category['都道府県名'] == '東京都')]"
   ]
  },
  {
   "cell_type": "code",
   "execution_count": 15,
   "id": "af0bb903-854f-4491-8f82-1c7671dad807",
   "metadata": {},
   "outputs": [],
   "source": [
    "font_path = 'TakaoPGothic.ttf'\n",
    "font_property = FontProperties(fname=font_path)"
   ]
  },
  {
   "cell_type": "code",
   "execution_count": 24,
   "id": "5547f3f2-6df0-4165-8a64-7a2441171232",
   "metadata": {},
   "outputs": [
    {
     "data": {
      "text/html": [
       "<div>\n",
       "<style scoped>\n",
       "    .dataframe tbody tr th:only-of-type {\n",
       "        vertical-align: middle;\n",
       "    }\n",
       "\n",
       "    .dataframe tbody tr th {\n",
       "        vertical-align: top;\n",
       "    }\n",
       "\n",
       "    .dataframe thead th {\n",
       "        text-align: right;\n",
       "    }\n",
       "</style>\n",
       "<table border=\"1\" class=\"dataframe\">\n",
       "  <thead>\n",
       "    <tr style=\"text-align: right;\">\n",
       "      <th></th>\n",
       "      <th>年齢</th>\n",
       "      <th>所定内給与額（万円）</th>\n",
       "      <th>年間賞与その他特別給与額（万円）</th>\n",
       "      <th>一人当たり賃金（万円）</th>\n",
       "    </tr>\n",
       "    <tr>\n",
       "      <th>集計年</th>\n",
       "      <th></th>\n",
       "      <th></th>\n",
       "      <th></th>\n",
       "      <th></th>\n",
       "    </tr>\n",
       "  </thead>\n",
       "  <tbody>\n",
       "    <tr>\n",
       "      <th>2010</th>\n",
       "      <td>年齢計</td>\n",
       "      <td>29.6219</td>\n",
       "      <td>79.1174</td>\n",
       "      <td>434.5804</td>\n",
       "    </tr>\n",
       "    <tr>\n",
       "      <th>2011</th>\n",
       "      <td>年齢計</td>\n",
       "      <td>29.6784</td>\n",
       "      <td>82.3747</td>\n",
       "      <td>438.5151</td>\n",
       "    </tr>\n",
       "    <tr>\n",
       "      <th>2012</th>\n",
       "      <td>年齢計</td>\n",
       "      <td>29.7757</td>\n",
       "      <td>81.9302</td>\n",
       "      <td>439.2385</td>\n",
       "    </tr>\n",
       "    <tr>\n",
       "      <th>2013</th>\n",
       "      <td>年齢計</td>\n",
       "      <td>29.5735</td>\n",
       "      <td>80.1316</td>\n",
       "      <td>435.0136</td>\n",
       "    </tr>\n",
       "    <tr>\n",
       "      <th>2014</th>\n",
       "      <td>年齢計</td>\n",
       "      <td>29.9630</td>\n",
       "      <td>84.1634</td>\n",
       "      <td>443.7198</td>\n",
       "    </tr>\n",
       "    <tr>\n",
       "      <th>2015</th>\n",
       "      <td>年齢計</td>\n",
       "      <td>30.4022</td>\n",
       "      <td>89.2692</td>\n",
       "      <td>454.0960</td>\n",
       "    </tr>\n",
       "    <tr>\n",
       "      <th>2016</th>\n",
       "      <td>年齢計</td>\n",
       "      <td>30.3988</td>\n",
       "      <td>89.4192</td>\n",
       "      <td>454.2043</td>\n",
       "    </tr>\n",
       "    <tr>\n",
       "      <th>2017</th>\n",
       "      <td>年齢計</td>\n",
       "      <td>30.4291</td>\n",
       "      <td>90.5953</td>\n",
       "      <td>455.7445</td>\n",
       "    </tr>\n",
       "    <tr>\n",
       "      <th>2018</th>\n",
       "      <td>年齢計</td>\n",
       "      <td>30.6196</td>\n",
       "      <td>93.1651</td>\n",
       "      <td>460.6006</td>\n",
       "    </tr>\n",
       "    <tr>\n",
       "      <th>2019</th>\n",
       "      <td>年齢計</td>\n",
       "      <td>30.7692</td>\n",
       "      <td>95.0934</td>\n",
       "      <td>464.3237</td>\n",
       "    </tr>\n",
       "  </tbody>\n",
       "</table>\n",
       "</div>"
      ],
      "text/plain": [
       "       年齢  所定内給与額（万円）  年間賞与その他特別給与額（万円）  一人当たり賃金（万円）\n",
       "集計年                                                 \n",
       "2010  年齢計     29.6219           79.1174     434.5804\n",
       "2011  年齢計     29.6784           82.3747     438.5151\n",
       "2012  年齢計     29.7757           81.9302     439.2385\n",
       "2013  年齢計     29.5735           80.1316     435.0136\n",
       "2014  年齢計     29.9630           84.1634     443.7198\n",
       "2015  年齢計     30.4022           89.2692     454.0960\n",
       "2016  年齢計     30.3988           89.4192     454.2043\n",
       "2017  年齢計     30.4291           90.5953     455.7445\n",
       "2018  年齢計     30.6196           93.1651     460.6006\n",
       "2019  年齢計     30.7692           95.0934     464.3237"
      ]
     },
     "execution_count": 24,
     "metadata": {},
     "output_type": "execute_result"
    }
   ],
   "source": [
    "df_ts_mean = df_jp_ind[(df_jp_ind[\"年齢\"] == \"年齢計\")]\n",
    "df_ts_mean = df_ts_mean.set_index('集計年')\n",
    "df_ts_mean"
   ]
  },
  {
   "cell_type": "code",
   "execution_count": 30,
   "id": "4b1b2146-0616-469e-b161-7cb56708d6ec",
   "metadata": {},
   "outputs": [
    {
     "data": {
      "image/png": "[encoded data removed]",
      "text/plain": [
       "<Figure size 720x360 with 1 Axes>"
      ]
     },
     "metadata": {
      "needs_background": "light"
     },
     "output_type": "display_data"
    }
   ],
   "source": [
    "fig = plt.figure(figsize=(10,5))\n",
    "ax = plt.axes()\n",
    "ax.set_xlabel('年', fontproperties=font_property)\n",
    "ax.set_ylabel('一人当たり賃金（万円）', fontproperties=font_property)\n",
    "ax.plot(df_ts_mean['一人当たり賃金（万円）'])\n",
    "plt.show()"
   ]
  },
  {
   "cell_type": "code",
   "execution_count": 31,
   "id": "9571b622-b9ab-49da-a201-b7ef3eac2e6a",
   "metadata": {},
   "outputs": [
    {
     "data": {
      "image/png": "[encoded data removed]",
      "text/plain": [
       "<Figure size 720x360 with 1 Axes>"
      ]
     },
     "metadata": {
      "needs_background": "light"
     },
     "output_type": "display_data"
    }
   ],
   "source": [
    "fig = plt.figure(figsize=(10,5))\n",
    "ax = plt.axes()\n",
    "ax.set_xlabel('年', fontproperties=font_property)\n",
    "ax.set_ylabel('年間賞与その他特別給与額（万円）', fontproperties=font_property)\n",
    "ax.plot(df_ts_mean['年間賞与その他特別給与額（万円）'])\n",
    "plt.show()"
   ]
  },
  {
   "cell_type": "code",
   "execution_count": 33,
   "id": "52e6d238-30e2-4f45-85e0-a119649da02c",
   "metadata": {},
   "outputs": [
    {
     "name": "stdout",
     "output_type": "stream",
     "text": [
      "    集計年  都道府県コード 都道府県名 産業大分類コード        産業大分類名      年齢  所定内給与額（万円）  \\\n",
      "0  2010        1   北海道        C  鉱業，採石業，砂利採取業     年齢計       28.85   \n",
      "1  2010        1   北海道        C  鉱業，採石業，砂利採取業    〜19歳       18.84   \n",
      "2  2010        1   北海道        C  鉱業，採石業，砂利採取業  20〜24歳       21.13   \n",
      "3  2010        1   北海道        C  鉱業，採石業，砂利採取業  25〜29歳       25.25   \n",
      "4  2010        1   北海道        C  鉱業，採石業，砂利採取業  30〜34歳       24.54   \n",
      "\n",
      "   年間賞与その他特別給与額（万円）  一人当たり賃金（万円）  \n",
      "0             74.95       421.15  \n",
      "1             19.88       245.96  \n",
      "2             89.56       343.12  \n",
      "3             83.94       386.94  \n",
      "4             66.53       361.01  \n"
     ]
    }
   ],
   "source": [
    "print(df_pref_category.head())"
   ]
  },
  {
   "cell_type": "code",
   "execution_count": 35,
   "id": "7cb96881-9ae9-4362-ad0f-5cc51fd51677",
   "metadata": {},
   "outputs": [
    {
     "name": "stdout",
     "output_type": "stream",
     "text": [
      "['年齢計' '〜19歳' '20〜24歳' '25〜29歳' '30〜34歳' '35〜39歳' '40〜44歳' '45〜49歳'\n",
      " '50〜54歳' '55〜59歳' '60〜64歳' '65〜69歳' '70歳〜']\n"
     ]
    }
   ],
   "source": [
    "age_list = df_pref_category['年齢'].unique()\n"
   ]
  },
  {
   "cell_type": "code",
   "execution_count": 45,
   "id": "977d54dd-d966-46f2-8156-afbd13e93a5d",
   "metadata": {},
   "outputs": [],
   "source": [
    "wage_list = []\n",
    "for age in age_list:\n",
    "    wage_temp = df_pref_category[df_pref_category['年齢'] == age]['一人当たり賃金（万円）'].values.tolist()\n",
    "    wage_list.append(wage_temp)"
   ]
  },
  {
   "cell_type": "code",
   "execution_count": 51,
   "id": "599ab9ca-d10f-46ba-a00b-51df0577a8ca",
   "metadata": {},
   "outputs": [
    {
     "data": {
      "image/png": "[encoded data removed]",
      "text/plain": [
       "<Figure size 1152x432 with 1 Axes>"
      ]
     },
     "metadata": {
      "needs_background": "light"
     },
     "output_type": "display_data"
    }
   ],
   "source": [
    "fig = plt.figure(figsize=(16,6))\n",
    "ax = plt.axes()\n",
    "ax.set_title('年齢階級ごとの一人あたり賃金', fontproperties=font_property)\n",
    "ax.set_xticklabels(age_list, fontproperties=font_property)\n",
    "ax.boxplot(wage_list, showfliers=False)\n",
    "plt.show()"
   ]
  },
  {
   "cell_type": "code",
   "execution_count": 53,
   "id": "57c0aad7-b570-45dd-8a6a-67a53df0a68b",
   "metadata": {},
   "outputs": [
    {
     "data": {
      "text/plain": [
       "array(['鉱業，採石業，砂利採取業', '建設業', '製造業', '電気・ガス・熱供給・水道業', '情報通信業', '運輸業，郵便業',\n",
       "       '卸売業，小売業', '金融業，保険業', '不動産業，物品賃貸業', '学術研究，専門・技術サービス業',\n",
       "       '宿泊業，飲食サービス業', '生活関連サービス業，娯楽業', '教育，学習支援業', '医療，福祉', '複合サービス事業',\n",
       "       'サービス業（他に分類されないもの）'], dtype=object)"
      ]
     },
     "execution_count": 53,
     "metadata": {},
     "output_type": "execute_result"
    }
   ],
   "source": [
    "ind_list = df_pref_category['産業大分類名'].unique()\n",
    "ind_list"
   ]
  },
  {
   "cell_type": "code",
   "execution_count": 65,
   "id": "a771341b-f578-4302-8e73-e72965d13886",
   "metadata": {},
   "outputs": [],
   "source": [
    "wage_list2 = []\n",
    "for ind in ind_list:\n",
    "    ind_temp = df_pref_category[df_pref_category['産業大分類名'] == ind]['一人当たり賃金（万円）'].values.tolist()\n",
    "    wage_list2.append(ind_temp)"
   ]
  },
  {
   "cell_type": "code",
   "execution_count": 66,
   "id": "211fb321-49ef-4ffe-bd2b-6a7f9f598656",
   "metadata": {},
   "outputs": [
    {
     "data": {
      "image/png": "[encoded data removed]",
      "text/plain": [
       "<Figure size 1152x432 with 1 Axes>"
      ]
     },
     "metadata": {
      "needs_background": "light"
     },
     "output_type": "display_data"
    }
   ],
   "source": [
    "fig = plt.figure(figsize=(16,6))\n",
    "ax = plt.axes()\n",
    "ax.set_title('年齢階級ごとの一人あたり賃金', fontproperties=font_property)\n",
    "ax.set_xticklabels(ind_list, fontproperties=font_property, rotation=80)\n",
    "ax.boxplot(wage_list2, showfliers=False)\n",
    "plt.show()"
   ]
  },
  {
   "cell_type": "code",
   "execution_count": null,
   "id": "275db76e-0888-4513-a5f3-fd544ef0d197",
   "metadata": {},
   "outputs": [],
   "source": []
  }
 ],
 "metadata": {
  "kernelspec": {
   "display_name": "Python 3 (ipykernel)",
   "language": "python",
   "name": "python3"
  },
  "language_info": {
   "codemirror_mode": {
    "name": "ipython",
    "version": 3
   },
   "file_extension": ".py",
   "mimetype": "text/x-python",
   "name": "python",
   "nbconvert_exporter": "python",
   "pygments_lexer": "ipython3",
   "version": "3.9.12"
  }
 },
 "nbformat": 4,
 "nbformat_minor": 5
}
